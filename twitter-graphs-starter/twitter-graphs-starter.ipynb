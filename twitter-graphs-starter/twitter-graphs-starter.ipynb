{
 "cells": [
  {
   "cell_type": "markdown",
   "metadata": {
    "papermill": {
     "duration": 0.032595,
     "end_time": "2021-03-24T09:28:17.780086",
     "exception": false,
     "start_time": "2021-03-24T09:28:17.747491",
     "status": "completed"
    },
    "tags": []
   },
   "source": [
    "# Twitter Graphs\n",
    "## Table of Contents\n",
    "* [Visualizations](#1)\n",
    "* [Global Statistics](#2)\n",
    "* [Page Rank - Demo on subset](#3)"
   ]
  },
  {
   "cell_type": "code",
   "execution_count": 1,
   "metadata": {
    "_kg_hide-output": true,
    "execution": {
     "iopub.execute_input": "2021-03-24T09:28:17.849340Z",
     "iopub.status.busy": "2021-03-24T09:28:17.848486Z",
     "iopub.status.idle": "2021-03-24T09:28:26.992205Z",
     "shell.execute_reply": "2021-03-24T09:28:26.991517Z"
    },
    "papermill": {
     "duration": 9.18059,
     "end_time": "2021-03-24T09:28:26.992433",
     "exception": false,
     "start_time": "2021-03-24T09:28:17.811843",
     "status": "completed"
    },
    "tags": []
   },
   "outputs": [
    {
     "name": "stdout",
     "output_type": "stream",
     "text": [
      "Collecting pyvis\r\n",
      "  Downloading pyvis-0.1.9-py3-none-any.whl (23 kB)\r\n",
      "Requirement already satisfied: ipython>=5.3.0 in /opt/conda/lib/python3.7/site-packages (from pyvis) (7.19.0)\r\n",
      "Requirement already satisfied: jsonpickle>=1.4.1 in /opt/conda/lib/python3.7/site-packages (from pyvis) (2.0.0)\r\n",
      "Requirement already satisfied: networkx>=1.11 in /opt/conda/lib/python3.7/site-packages (from pyvis) (2.5)\r\n",
      "Requirement already satisfied: jinja2>=2.9.6 in /opt/conda/lib/python3.7/site-packages (from pyvis) (2.11.2)\r\n",
      "Requirement already satisfied: pygments in /opt/conda/lib/python3.7/site-packages (from ipython>=5.3.0->pyvis) (2.7.3)\r\n",
      "Requirement already satisfied: jedi>=0.10 in /opt/conda/lib/python3.7/site-packages (from ipython>=5.3.0->pyvis) (0.17.2)\r\n",
      "Requirement already satisfied: setuptools>=18.5 in /opt/conda/lib/python3.7/site-packages (from ipython>=5.3.0->pyvis) (49.6.0.post20201009)\r\n",
      "Requirement already satisfied: traitlets>=4.2 in /opt/conda/lib/python3.7/site-packages (from ipython>=5.3.0->pyvis) (5.0.5)\r\n",
      "Requirement already satisfied: prompt-toolkit!=3.0.0,!=3.0.1,<3.1.0,>=2.0.0 in /opt/conda/lib/python3.7/site-packages (from ipython>=5.3.0->pyvis) (3.0.8)\r\n",
      "Requirement already satisfied: backcall in /opt/conda/lib/python3.7/site-packages (from ipython>=5.3.0->pyvis) (0.2.0)\r\n",
      "Requirement already satisfied: pickleshare in /opt/conda/lib/python3.7/site-packages (from ipython>=5.3.0->pyvis) (0.7.5)\r\n",
      "Requirement already satisfied: pexpect>4.3 in /opt/conda/lib/python3.7/site-packages (from ipython>=5.3.0->pyvis) (4.8.0)\r\n",
      "Requirement already satisfied: decorator in /opt/conda/lib/python3.7/site-packages (from ipython>=5.3.0->pyvis) (4.4.2)\r\n",
      "Requirement already satisfied: parso<0.8.0,>=0.7.0 in /opt/conda/lib/python3.7/site-packages (from jedi>=0.10->ipython>=5.3.0->pyvis) (0.7.1)\r\n",
      "Requirement already satisfied: MarkupSafe>=0.23 in /opt/conda/lib/python3.7/site-packages (from jinja2>=2.9.6->pyvis) (1.1.1)\r\n",
      "Requirement already satisfied: importlib-metadata in /opt/conda/lib/python3.7/site-packages (from jsonpickle>=1.4.1->pyvis) (3.3.0)\r\n",
      "Requirement already satisfied: ptyprocess>=0.5 in /opt/conda/lib/python3.7/site-packages (from pexpect>4.3->ipython>=5.3.0->pyvis) (0.7.0)\r\n",
      "Requirement already satisfied: wcwidth in /opt/conda/lib/python3.7/site-packages (from prompt-toolkit!=3.0.0,!=3.0.1,<3.1.0,>=2.0.0->ipython>=5.3.0->pyvis) (0.2.5)\r\n",
      "Requirement already satisfied: ipython-genutils in /opt/conda/lib/python3.7/site-packages (from traitlets>=4.2->ipython>=5.3.0->pyvis) (0.2.0)\r\n",
      "Requirement already satisfied: zipp>=0.5 in /opt/conda/lib/python3.7/site-packages (from importlib-metadata->jsonpickle>=1.4.1->pyvis) (3.4.0)\r\n",
      "Requirement already satisfied: typing-extensions>=3.6.4 in /opt/conda/lib/python3.7/site-packages (from importlib-metadata->jsonpickle>=1.4.1->pyvis) (3.7.4.3)\r\n",
      "Installing collected packages: pyvis\r\n",
      "Successfully installed pyvis-0.1.9\r\n"
     ]
    }
   ],
   "source": [
    "!pip install pyvis"
   ]
  },
  {
   "cell_type": "code",
   "execution_count": 2,
   "metadata": {
    "_cell_guid": "b1076dfc-b9ad-4769-8c92-a6c4dae69d19",
    "_uuid": "8f2839f25d086af736a60e9eeb907d3b93b6e0e5",
    "execution": {
     "iopub.execute_input": "2021-03-24T09:28:27.048186Z",
     "iopub.status.busy": "2021-03-24T09:28:27.047368Z",
     "iopub.status.idle": "2021-03-24T09:28:29.812819Z",
     "shell.execute_reply": "2021-03-24T09:28:29.812253Z"
    },
    "papermill": {
     "duration": 2.796395,
     "end_time": "2021-03-24T09:28:29.812964",
     "exception": false,
     "start_time": "2021-03-24T09:28:27.016569",
     "status": "completed"
    },
    "tags": []
   },
   "outputs": [],
   "source": [
    "# packages\n",
    "\n",
    "# standard\n",
    "import numpy as np\n",
    "import pandas as pd\n",
    "import time\n",
    "\n",
    "# plots\n",
    "import matplotlib.pyplot as plt\n",
    "import plotly.express as px\n",
    "import seaborn as sns\n",
    "\n",
    "# graph\n",
    "import networkx as nx\n",
    "from pyvis.network import Network"
   ]
  },
  {
   "cell_type": "code",
   "execution_count": 3,
   "metadata": {
    "execution": {
     "iopub.execute_input": "2021-03-24T09:28:29.865575Z",
     "iopub.status.busy": "2021-03-24T09:28:29.864884Z",
     "iopub.status.idle": "2021-03-24T09:29:07.838831Z",
     "shell.execute_reply": "2021-03-24T09:29:07.839609Z"
    },
    "papermill": {
     "duration": 38.003731,
     "end_time": "2021-03-24T09:29:07.839793",
     "exception": false,
     "start_time": "2021-03-24T09:28:29.836062",
     "status": "completed"
    },
    "tags": []
   },
   "outputs": [
    {
     "name": "stdout",
     "output_type": "stream",
     "text": [
      "Elapsed time [s]:  37.95\n"
     ]
    }
   ],
   "source": [
    "# load edge data\n",
    "t1 = time.time()\n",
    "df = pd.read_csv('../input/twitter-edge-nodes/Twitter-dataset/data/edges.csv', \n",
    "                 header=None, names=['Follower','Target'])\n",
    "t2 = time.time()\n",
    "print('Elapsed time [s]: ', np.round(t2-t1,2))"
   ]
  },
  {
   "cell_type": "markdown",
   "metadata": {
    "papermill": {
     "duration": 0.023339,
     "end_time": "2021-03-24T09:29:07.886866",
     "exception": false,
     "start_time": "2021-03-24T09:29:07.863527",
     "status": "completed"
    },
    "tags": []
   },
   "source": [
    "### (1,2) means user (follower) with id \"1\" is following user (target) with id \"2\"."
   ]
  },
  {
   "cell_type": "code",
   "execution_count": 4,
   "metadata": {
    "execution": {
     "iopub.execute_input": "2021-03-24T09:29:07.951920Z",
     "iopub.status.busy": "2021-03-24T09:29:07.948393Z",
     "iopub.status.idle": "2021-03-24T09:29:07.973084Z",
     "shell.execute_reply": "2021-03-24T09:29:07.972384Z"
    },
    "papermill": {
     "duration": 0.062521,
     "end_time": "2021-03-24T09:29:07.973249",
     "exception": false,
     "start_time": "2021-03-24T09:29:07.910728",
     "status": "completed"
    },
    "tags": []
   },
   "outputs": [
    {
     "data": {
      "text/html": [
       "<div>\n",
       "<style scoped>\n",
       "    .dataframe tbody tr th:only-of-type {\n",
       "        vertical-align: middle;\n",
       "    }\n",
       "\n",
       "    .dataframe tbody tr th {\n",
       "        vertical-align: top;\n",
       "    }\n",
       "\n",
       "    .dataframe thead th {\n",
       "        text-align: right;\n",
       "    }\n",
       "</style>\n",
       "<table border=\"1\" class=\"dataframe\">\n",
       "  <thead>\n",
       "    <tr style=\"text-align: right;\">\n",
       "      <th></th>\n",
       "      <th>Follower</th>\n",
       "      <th>Target</th>\n",
       "    </tr>\n",
       "  </thead>\n",
       "  <tbody>\n",
       "    <tr>\n",
       "      <th>0</th>\n",
       "      <td>1</td>\n",
       "      <td>11553</td>\n",
       "    </tr>\n",
       "    <tr>\n",
       "      <th>1</th>\n",
       "      <td>1</td>\n",
       "      <td>8762940</td>\n",
       "    </tr>\n",
       "    <tr>\n",
       "      <th>2</th>\n",
       "      <td>1</td>\n",
       "      <td>8762941</td>\n",
       "    </tr>\n",
       "    <tr>\n",
       "      <th>3</th>\n",
       "      <td>1</td>\n",
       "      <td>688136</td>\n",
       "    </tr>\n",
       "    <tr>\n",
       "      <th>4</th>\n",
       "      <td>1</td>\n",
       "      <td>8762942</td>\n",
       "    </tr>\n",
       "    <tr>\n",
       "      <th>...</th>\n",
       "      <td>...</td>\n",
       "      <td>...</td>\n",
       "    </tr>\n",
       "    <tr>\n",
       "      <th>85331840</th>\n",
       "      <td>8762935</td>\n",
       "      <td>143150</td>\n",
       "    </tr>\n",
       "    <tr>\n",
       "      <th>85331841</th>\n",
       "      <td>8762936</td>\n",
       "      <td>8217613</td>\n",
       "    </tr>\n",
       "    <tr>\n",
       "      <th>85331842</th>\n",
       "      <td>8762937</td>\n",
       "      <td>8217613</td>\n",
       "    </tr>\n",
       "    <tr>\n",
       "      <th>85331843</th>\n",
       "      <td>8762938</td>\n",
       "      <td>8217613</td>\n",
       "    </tr>\n",
       "    <tr>\n",
       "      <th>85331844</th>\n",
       "      <td>8762939</td>\n",
       "      <td>150686</td>\n",
       "    </tr>\n",
       "  </tbody>\n",
       "</table>\n",
       "<p>85331845 rows × 2 columns</p>\n",
       "</div>"
      ],
      "text/plain": [
       "          Follower   Target\n",
       "0                1    11553\n",
       "1                1  8762940\n",
       "2                1  8762941\n",
       "3                1   688136\n",
       "4                1  8762942\n",
       "...            ...      ...\n",
       "85331840   8762935   143150\n",
       "85331841   8762936  8217613\n",
       "85331842   8762937  8217613\n",
       "85331843   8762938  8217613\n",
       "85331844   8762939   150686\n",
       "\n",
       "[85331845 rows x 2 columns]"
      ]
     },
     "execution_count": 4,
     "metadata": {},
     "output_type": "execute_result"
    }
   ],
   "source": [
    "# preview\n",
    "df"
   ]
  },
  {
   "cell_type": "markdown",
   "metadata": {
    "papermill": {
     "duration": 0.036784,
     "end_time": "2021-03-24T09:29:08.046801",
     "exception": false,
     "start_time": "2021-03-24T09:29:08.010017",
     "status": "completed"
    },
    "tags": []
   },
   "source": [
    "<a id='1'></a>\n",
    "# Visualizations"
   ]
  },
  {
   "cell_type": "markdown",
   "metadata": {
    "papermill": {
     "duration": 0.036229,
     "end_time": "2021-03-24T09:29:08.119601",
     "exception": false,
     "start_time": "2021-03-24T09:29:08.083372",
     "status": "completed"
    },
    "tags": []
   },
   "source": [
    "### Filter by follower"
   ]
  },
  {
   "cell_type": "code",
   "execution_count": 5,
   "metadata": {
    "execution": {
     "iopub.execute_input": "2021-03-24T09:29:08.200030Z",
     "iopub.status.busy": "2021-03-24T09:29:08.199398Z",
     "iopub.status.idle": "2021-03-24T09:29:08.381508Z",
     "shell.execute_reply": "2021-03-24T09:29:08.380834Z"
    },
    "papermill": {
     "duration": 0.225253,
     "end_time": "2021-03-24T09:29:08.381655",
     "exception": false,
     "start_time": "2021-03-24T09:29:08.156402",
     "status": "completed"
    },
    "tags": []
   },
   "outputs": [
    {
     "data": {
      "text/html": [
       "<div>\n",
       "<style scoped>\n",
       "    .dataframe tbody tr th:only-of-type {\n",
       "        vertical-align: middle;\n",
       "    }\n",
       "\n",
       "    .dataframe tbody tr th {\n",
       "        vertical-align: top;\n",
       "    }\n",
       "\n",
       "    .dataframe thead th {\n",
       "        text-align: right;\n",
       "    }\n",
       "</style>\n",
       "<table border=\"1\" class=\"dataframe\">\n",
       "  <thead>\n",
       "    <tr style=\"text-align: right;\">\n",
       "      <th></th>\n",
       "      <th>Follower</th>\n",
       "      <th>Target</th>\n",
       "    </tr>\n",
       "  </thead>\n",
       "  <tbody>\n",
       "    <tr>\n",
       "      <th>0</th>\n",
       "      <td>1</td>\n",
       "      <td>11553</td>\n",
       "    </tr>\n",
       "    <tr>\n",
       "      <th>1</th>\n",
       "      <td>1</td>\n",
       "      <td>8762940</td>\n",
       "    </tr>\n",
       "    <tr>\n",
       "      <th>2</th>\n",
       "      <td>1</td>\n",
       "      <td>8762941</td>\n",
       "    </tr>\n",
       "    <tr>\n",
       "      <th>3</th>\n",
       "      <td>1</td>\n",
       "      <td>688136</td>\n",
       "    </tr>\n",
       "    <tr>\n",
       "      <th>4</th>\n",
       "      <td>1</td>\n",
       "      <td>8762942</td>\n",
       "    </tr>\n",
       "  </tbody>\n",
       "</table>\n",
       "</div>"
      ],
      "text/plain": [
       "   Follower   Target\n",
       "0         1    11553\n",
       "1         1  8762940\n",
       "2         1  8762941\n",
       "3         1   688136\n",
       "4         1  8762942"
      ]
     },
     "execution_count": 5,
     "metadata": {},
     "output_type": "execute_result"
    }
   ],
   "source": [
    "follower = 1\n",
    "df_select = df[df.Follower==follower]\n",
    "df_select"
   ]
  },
  {
   "cell_type": "code",
   "execution_count": 6,
   "metadata": {
    "execution": {
     "iopub.execute_input": "2021-03-24T09:29:08.455066Z",
     "iopub.status.busy": "2021-03-24T09:29:08.452875Z",
     "iopub.status.idle": "2021-03-24T09:29:08.657479Z",
     "shell.execute_reply": "2021-03-24T09:29:08.657953Z"
    },
    "papermill": {
     "duration": 0.251569,
     "end_time": "2021-03-24T09:29:08.658131",
     "exception": false,
     "start_time": "2021-03-24T09:29:08.406562",
     "status": "completed"
    },
    "tags": []
   },
   "outputs": [
    {
     "data": {
      "image/png": "[encoded data removed]",
      "text/plain": [
       "<Figure size 432x288 with 1 Axes>"
      ]
     },
     "metadata": {},
     "output_type": "display_data"
    }
   ],
   "source": [
    "# create graph from edges\n",
    "G = nx.from_pandas_edgelist(df_select, 'Follower', 'Target', create_using=nx.DiGraph())\n",
    "# and plot\n",
    "nx.draw(G, with_labels=True, node_size=1000, alpha=0.5, arrows=True)\n",
    "plt.title('Targets that ' + str(follower) + ' follows')\n",
    "plt.show()"
   ]
  },
  {
   "cell_type": "markdown",
   "metadata": {
    "papermill": {
     "duration": 0.02583,
     "end_time": "2021-03-24T09:29:08.711675",
     "exception": false,
     "start_time": "2021-03-24T09:29:08.685845",
     "status": "completed"
    },
    "tags": []
   },
   "source": [
    "### Get all followers of a target"
   ]
  },
  {
   "cell_type": "code",
   "execution_count": 7,
   "metadata": {
    "execution": {
     "iopub.execute_input": "2021-03-24T09:29:08.766754Z",
     "iopub.status.busy": "2021-03-24T09:29:08.766101Z",
     "iopub.status.idle": "2021-03-24T09:29:08.831280Z",
     "shell.execute_reply": "2021-03-24T09:29:08.829821Z"
    },
    "papermill": {
     "duration": 0.093606,
     "end_time": "2021-03-24T09:29:08.831472",
     "exception": false,
     "start_time": "2021-03-24T09:29:08.737866",
     "status": "completed"
    },
    "tags": []
   },
   "outputs": [
    {
     "data": {
      "text/html": [
       "<div>\n",
       "<style scoped>\n",
       "    .dataframe tbody tr th:only-of-type {\n",
       "        vertical-align: middle;\n",
       "    }\n",
       "\n",
       "    .dataframe tbody tr th {\n",
       "        vertical-align: top;\n",
       "    }\n",
       "\n",
       "    .dataframe thead th {\n",
       "        text-align: right;\n",
       "    }\n",
       "</style>\n",
       "<table border=\"1\" class=\"dataframe\">\n",
       "  <thead>\n",
       "    <tr style=\"text-align: right;\">\n",
       "      <th></th>\n",
       "      <th>Follower</th>\n",
       "      <th>Target</th>\n",
       "    </tr>\n",
       "  </thead>\n",
       "  <tbody>\n",
       "    <tr>\n",
       "      <th>48155330</th>\n",
       "      <td>4</td>\n",
       "      <td>3</td>\n",
       "    </tr>\n",
       "    <tr>\n",
       "      <th>48156324</th>\n",
       "      <td>5</td>\n",
       "      <td>3</td>\n",
       "    </tr>\n",
       "    <tr>\n",
       "      <th>48158275</th>\n",
       "      <td>6</td>\n",
       "      <td>3</td>\n",
       "    </tr>\n",
       "    <tr>\n",
       "      <th>48159154</th>\n",
       "      <td>7</td>\n",
       "      <td>3</td>\n",
       "    </tr>\n",
       "    <tr>\n",
       "      <th>48159192</th>\n",
       "      <td>8</td>\n",
       "      <td>3</td>\n",
       "    </tr>\n",
       "    <tr>\n",
       "      <th>48159607</th>\n",
       "      <td>9</td>\n",
       "      <td>3</td>\n",
       "    </tr>\n",
       "    <tr>\n",
       "      <th>48160511</th>\n",
       "      <td>10</td>\n",
       "      <td>3</td>\n",
       "    </tr>\n",
       "    <tr>\n",
       "      <th>48160552</th>\n",
       "      <td>11</td>\n",
       "      <td>3</td>\n",
       "    </tr>\n",
       "    <tr>\n",
       "      <th>48161203</th>\n",
       "      <td>12</td>\n",
       "      <td>3</td>\n",
       "    </tr>\n",
       "    <tr>\n",
       "      <th>48161254</th>\n",
       "      <td>13</td>\n",
       "      <td>3</td>\n",
       "    </tr>\n",
       "    <tr>\n",
       "      <th>48162633</th>\n",
       "      <td>14</td>\n",
       "      <td>3</td>\n",
       "    </tr>\n",
       "    <tr>\n",
       "      <th>48164937</th>\n",
       "      <td>15</td>\n",
       "      <td>3</td>\n",
       "    </tr>\n",
       "    <tr>\n",
       "      <th>48164997</th>\n",
       "      <td>16</td>\n",
       "      <td>3</td>\n",
       "    </tr>\n",
       "    <tr>\n",
       "      <th>48165970</th>\n",
       "      <td>17</td>\n",
       "      <td>3</td>\n",
       "    </tr>\n",
       "    <tr>\n",
       "      <th>48167390</th>\n",
       "      <td>18</td>\n",
       "      <td>3</td>\n",
       "    </tr>\n",
       "    <tr>\n",
       "      <th>48167428</th>\n",
       "      <td>19</td>\n",
       "      <td>3</td>\n",
       "    </tr>\n",
       "  </tbody>\n",
       "</table>\n",
       "</div>"
      ],
      "text/plain": [
       "          Follower  Target\n",
       "48155330         4       3\n",
       "48156324         5       3\n",
       "48158275         6       3\n",
       "48159154         7       3\n",
       "48159192         8       3\n",
       "48159607         9       3\n",
       "48160511        10       3\n",
       "48160552        11       3\n",
       "48161203        12       3\n",
       "48161254        13       3\n",
       "48162633        14       3\n",
       "48164937        15       3\n",
       "48164997        16       3\n",
       "48165970        17       3\n",
       "48167390        18       3\n",
       "48167428        19       3"
      ]
     },
     "execution_count": 7,
     "metadata": {},
     "output_type": "execute_result"
    }
   ],
   "source": [
    "target = 3\n",
    "df_select = df[df.Target==target]\n",
    "df_select"
   ]
  },
  {
   "cell_type": "code",
   "execution_count": 8,
   "metadata": {
    "execution": {
     "iopub.execute_input": "2021-03-24T09:29:08.908457Z",
     "iopub.status.busy": "2021-03-24T09:29:08.905524Z",
     "iopub.status.idle": "2021-03-24T09:29:09.157397Z",
     "shell.execute_reply": "2021-03-24T09:29:09.156971Z"
    },
    "papermill": {
     "duration": 0.298976,
     "end_time": "2021-03-24T09:29:09.157515",
     "exception": false,
     "start_time": "2021-03-24T09:29:08.858539",
     "status": "completed"
    },
    "tags": []
   },
   "outputs": [
    {
     "data": {
      "image/png": "[encoded data removed]",
      "text/plain": [
       "<Figure size 432x288 with 1 Axes>"
      ]
     },
     "metadata": {},
     "output_type": "display_data"
    }
   ],
   "source": [
    "# create graph from edges\n",
    "G = nx.from_pandas_edgelist(df_select, 'Follower', 'Target', create_using=nx.DiGraph())\n",
    "# and plot\n",
    "nx.draw(G, with_labels=True, node_size=1000, alpha=0.5, arrows=True)\n",
    "plt.title('Followers of target ' + str(target))\n",
    "plt.show()"
   ]
  },
  {
   "cell_type": "markdown",
   "metadata": {
    "papermill": {
     "duration": 0.020006,
     "end_time": "2021-03-24T09:29:09.197910",
     "exception": false,
     "start_time": "2021-03-24T09:29:09.177904",
     "status": "completed"
    },
    "tags": []
   },
   "source": [
    "### Bidirectional"
   ]
  },
  {
   "cell_type": "code",
   "execution_count": 9,
   "metadata": {
    "execution": {
     "iopub.execute_input": "2021-03-24T09:29:09.253008Z",
     "iopub.status.busy": "2021-03-24T09:29:09.252398Z",
     "iopub.status.idle": "2021-03-24T09:29:09.354668Z",
     "shell.execute_reply": "2021-03-24T09:29:09.354071Z"
    },
    "papermill": {
     "duration": 0.136962,
     "end_time": "2021-03-24T09:29:09.354806",
     "exception": false,
     "start_time": "2021-03-24T09:29:09.217844",
     "status": "completed"
    },
    "tags": []
   },
   "outputs": [
    {
     "data": {
      "text/html": [
       "<div>\n",
       "<style scoped>\n",
       "    .dataframe tbody tr th:only-of-type {\n",
       "        vertical-align: middle;\n",
       "    }\n",
       "\n",
       "    .dataframe tbody tr th {\n",
       "        vertical-align: top;\n",
       "    }\n",
       "\n",
       "    .dataframe thead th {\n",
       "        text-align: right;\n",
       "    }\n",
       "</style>\n",
       "<table border=\"1\" class=\"dataframe\">\n",
       "  <thead>\n",
       "    <tr style=\"text-align: right;\">\n",
       "      <th></th>\n",
       "      <th>Follower</th>\n",
       "      <th>Target</th>\n",
       "    </tr>\n",
       "  </thead>\n",
       "  <tbody>\n",
       "    <tr>\n",
       "      <th>6769913</th>\n",
       "      <td>777202</td>\n",
       "      <td>100</td>\n",
       "    </tr>\n",
       "    <tr>\n",
       "      <th>21657538</th>\n",
       "      <td>126698</td>\n",
       "      <td>100</td>\n",
       "    </tr>\n",
       "    <tr>\n",
       "      <th>21930021</th>\n",
       "      <td>699</td>\n",
       "      <td>100</td>\n",
       "    </tr>\n",
       "    <tr>\n",
       "      <th>21963858</th>\n",
       "      <td>245669</td>\n",
       "      <td>100</td>\n",
       "    </tr>\n",
       "    <tr>\n",
       "      <th>23000793</th>\n",
       "      <td>8079</td>\n",
       "      <td>100</td>\n",
       "    </tr>\n",
       "    <tr>\n",
       "      <th>30902596</th>\n",
       "      <td>626186</td>\n",
       "      <td>100</td>\n",
       "    </tr>\n",
       "    <tr>\n",
       "      <th>48182361</th>\n",
       "      <td>100</td>\n",
       "      <td>41</td>\n",
       "    </tr>\n",
       "    <tr>\n",
       "      <th>48182362</th>\n",
       "      <td>100</td>\n",
       "      <td>22756</td>\n",
       "    </tr>\n",
       "    <tr>\n",
       "      <th>48182363</th>\n",
       "      <td>100</td>\n",
       "      <td>85690</td>\n",
       "    </tr>\n",
       "    <tr>\n",
       "      <th>48182364</th>\n",
       "      <td>100</td>\n",
       "      <td>777202</td>\n",
       "    </tr>\n",
       "    <tr>\n",
       "      <th>48182365</th>\n",
       "      <td>100</td>\n",
       "      <td>533454</td>\n",
       "    </tr>\n",
       "    <tr>\n",
       "      <th>48182366</th>\n",
       "      <td>100</td>\n",
       "      <td>700606</td>\n",
       "    </tr>\n",
       "    <tr>\n",
       "      <th>48182367</th>\n",
       "      <td>100</td>\n",
       "      <td>126698</td>\n",
       "    </tr>\n",
       "    <tr>\n",
       "      <th>48182368</th>\n",
       "      <td>100</td>\n",
       "      <td>699</td>\n",
       "    </tr>\n",
       "    <tr>\n",
       "      <th>48182369</th>\n",
       "      <td>100</td>\n",
       "      <td>245669</td>\n",
       "    </tr>\n",
       "    <tr>\n",
       "      <th>48182370</th>\n",
       "      <td>100</td>\n",
       "      <td>8079</td>\n",
       "    </tr>\n",
       "  </tbody>\n",
       "</table>\n",
       "</div>"
      ],
      "text/plain": [
       "          Follower  Target\n",
       "6769913     777202     100\n",
       "21657538    126698     100\n",
       "21930021       699     100\n",
       "21963858    245669     100\n",
       "23000793      8079     100\n",
       "30902596    626186     100\n",
       "48182361       100      41\n",
       "48182362       100   22756\n",
       "48182363       100   85690\n",
       "48182364       100  777202\n",
       "48182365       100  533454\n",
       "48182366       100  700606\n",
       "48182367       100  126698\n",
       "48182368       100     699\n",
       "48182369       100  245669\n",
       "48182370       100    8079"
      ]
     },
     "execution_count": 9,
     "metadata": {},
     "output_type": "execute_result"
    }
   ],
   "source": [
    "user = 100\n",
    "df_out = df[df.Follower==user]\n",
    "df_in = df[df.Target==user]\n",
    "df_select = pd.concat([df_in,df_out])\n",
    "df_select"
   ]
  },
  {
   "cell_type": "code",
   "execution_count": 10,
   "metadata": {
    "execution": {
     "iopub.execute_input": "2021-03-24T09:29:09.441611Z",
     "iopub.status.busy": "2021-03-24T09:29:09.436237Z",
     "iopub.status.idle": "2021-03-24T09:29:09.680095Z",
     "shell.execute_reply": "2021-03-24T09:29:09.679399Z"
    },
    "papermill": {
     "duration": 0.295784,
     "end_time": "2021-03-24T09:29:09.680410",
     "exception": false,
     "start_time": "2021-03-24T09:29:09.384626",
     "status": "completed"
    },
    "tags": []
   },
   "outputs": [
    {
     "data": {
      "image/png": "[encoded data removed]",
      "text/plain": [
       "<Figure size 432x288 with 1 Axes>"
      ]
     },
     "metadata": {},
     "output_type": "display_data"
    }
   ],
   "source": [
    "# create graph from edges\n",
    "G = nx.from_pandas_edgelist(df_select, 'Follower', 'Target', create_using=nx.DiGraph())\n",
    "# and plot\n",
    "nx.draw_circular(G, with_labels=True, node_size=1000, alpha=0.5, arrows=True)\n",
    "plt.title('Bidirectional view of user ' + str(user))\n",
    "plt.show()"
   ]
  },
  {
   "cell_type": "markdown",
   "metadata": {
    "papermill": {
     "duration": 0.030741,
     "end_time": "2021-03-24T09:29:09.742007",
     "exception": false,
     "start_time": "2021-03-24T09:29:09.711266",
     "status": "completed"
    },
    "tags": []
   },
   "source": [
    "#### Interactive Plot:"
   ]
  },
  {
   "cell_type": "code",
   "execution_count": 11,
   "metadata": {
    "execution": {
     "iopub.execute_input": "2021-03-24T09:29:09.813542Z",
     "iopub.status.busy": "2021-03-24T09:29:09.807741Z",
     "iopub.status.idle": "2021-03-24T09:29:09.830957Z",
     "shell.execute_reply": "2021-03-24T09:29:09.830270Z"
    },
    "papermill": {
     "duration": 0.058646,
     "end_time": "2021-03-24T09:29:09.831096",
     "exception": false,
     "start_time": "2021-03-24T09:29:09.772450",
     "status": "completed"
    },
    "tags": []
   },
   "outputs": [
    {
     "data": {
      "text/html": [
       "\n",
       "        <iframe\n",
       "            width=\"800px\"\n",
       "            height=\"500px\"\n",
       "            src=\"example.html\"\n",
       "            frameborder=\"0\"\n",
       "            allowfullscreen\n",
       "        ></iframe>\n",
       "        "
      ],
      "text/plain": [
       "<IPython.lib.display.IFrame at 0x7f3dde367810>"
      ]
     },
     "execution_count": 11,
     "metadata": {},
     "output_type": "execute_result"
    }
   ],
   "source": [
    "net = Network(notebook=True, width='800px', height='500px')\n",
    "net.directed = True\n",
    "net.from_nx(G)\n",
    "net.show('example.html')"
   ]
  },
  {
   "cell_type": "markdown",
   "metadata": {
    "papermill": {
     "duration": 0.030426,
     "end_time": "2021-03-24T09:29:09.892532",
     "exception": false,
     "start_time": "2021-03-24T09:29:09.862106",
     "status": "completed"
    },
    "tags": []
   },
   "source": [
    "<a id='2'></a>\n",
    "# Global Statistics"
   ]
  },
  {
   "cell_type": "markdown",
   "metadata": {
    "papermill": {
     "duration": 0.030329,
     "end_time": "2021-03-24T09:29:09.953513",
     "exception": false,
     "start_time": "2021-03-24T09:29:09.923184",
     "status": "completed"
    },
    "tags": []
   },
   "source": [
    "### Most active followers"
   ]
  },
  {
   "cell_type": "code",
   "execution_count": 12,
   "metadata": {
    "execution": {
     "iopub.execute_input": "2021-03-24T09:29:10.022240Z",
     "iopub.status.busy": "2021-03-24T09:29:10.021625Z",
     "iopub.status.idle": "2021-03-24T09:29:13.722723Z",
     "shell.execute_reply": "2021-03-24T09:29:13.721930Z"
    },
    "papermill": {
     "duration": 3.738694,
     "end_time": "2021-03-24T09:29:13.722869",
     "exception": false,
     "start_time": "2021-03-24T09:29:09.984175",
     "status": "completed"
    },
    "tags": []
   },
   "outputs": [
    {
     "data": {
      "text/html": [
       "<div>\n",
       "<style scoped>\n",
       "    .dataframe tbody tr th:only-of-type {\n",
       "        vertical-align: middle;\n",
       "    }\n",
       "\n",
       "    .dataframe tbody tr th {\n",
       "        vertical-align: top;\n",
       "    }\n",
       "\n",
       "    .dataframe thead th {\n",
       "        text-align: right;\n",
       "    }\n",
       "</style>\n",
       "<table border=\"1\" class=\"dataframe\">\n",
       "  <thead>\n",
       "    <tr style=\"text-align: right;\">\n",
       "      <th></th>\n",
       "      <th>Follower</th>\n",
       "      <th>Frequency</th>\n",
       "    </tr>\n",
       "  </thead>\n",
       "  <tbody>\n",
       "    <tr>\n",
       "      <th>0</th>\n",
       "      <td>3493</td>\n",
       "      <td>214381</td>\n",
       "    </tr>\n",
       "    <tr>\n",
       "      <th>1</th>\n",
       "      <td>1693</td>\n",
       "      <td>201006</td>\n",
       "    </tr>\n",
       "    <tr>\n",
       "      <th>2</th>\n",
       "      <td>3402</td>\n",
       "      <td>180373</td>\n",
       "    </tr>\n",
       "    <tr>\n",
       "      <th>3</th>\n",
       "      <td>4018</td>\n",
       "      <td>165718</td>\n",
       "    </tr>\n",
       "    <tr>\n",
       "      <th>4</th>\n",
       "      <td>16201</td>\n",
       "      <td>156819</td>\n",
       "    </tr>\n",
       "    <tr>\n",
       "      <th>5</th>\n",
       "      <td>1450</td>\n",
       "      <td>151391</td>\n",
       "    </tr>\n",
       "    <tr>\n",
       "      <th>6</th>\n",
       "      <td>3487</td>\n",
       "      <td>147329</td>\n",
       "    </tr>\n",
       "    <tr>\n",
       "      <th>7</th>\n",
       "      <td>55567</td>\n",
       "      <td>137135</td>\n",
       "    </tr>\n",
       "    <tr>\n",
       "      <th>8</th>\n",
       "      <td>56382</td>\n",
       "      <td>131936</td>\n",
       "    </tr>\n",
       "    <tr>\n",
       "      <th>9</th>\n",
       "      <td>132335</td>\n",
       "      <td>123533</td>\n",
       "    </tr>\n",
       "  </tbody>\n",
       "</table>\n",
       "</div>"
      ],
      "text/plain": [
       "   Follower  Frequency\n",
       "0      3493     214381\n",
       "1      1693     201006\n",
       "2      3402     180373\n",
       "3      4018     165718\n",
       "4     16201     156819\n",
       "5      1450     151391\n",
       "6      3487     147329\n",
       "7     55567     137135\n",
       "8     56382     131936\n",
       "9    132335     123533"
      ]
     },
     "execution_count": 12,
     "metadata": {},
     "output_type": "execute_result"
    }
   ],
   "source": [
    "# frequency table\n",
    "f_counts = df.Follower.value_counts().rename_axis('Follower').reset_index(name='Frequency')\n",
    "\n",
    "# top 10\n",
    "f_counts[0:10]"
   ]
  },
  {
   "cell_type": "code",
   "execution_count": 13,
   "metadata": {
    "execution": {
     "iopub.execute_input": "2021-03-24T09:29:13.793227Z",
     "iopub.status.busy": "2021-03-24T09:29:13.792609Z",
     "iopub.status.idle": "2021-03-24T09:29:14.140134Z",
     "shell.execute_reply": "2021-03-24T09:29:14.139568Z"
    },
    "papermill": {
     "duration": 0.385028,
     "end_time": "2021-03-24T09:29:14.140277",
     "exception": false,
     "start_time": "2021-03-24T09:29:13.755249",
     "status": "completed"
    },
    "tags": []
   },
   "outputs": [
    {
     "data": {
      "text/plain": [
       "count    8.768419e+06\n",
       "mean     9.731725e+00\n",
       "std      3.410203e+02\n",
       "min      1.000000e+00\n",
       "25%      1.000000e+00\n",
       "50%      1.000000e+00\n",
       "75%      2.000000e+00\n",
       "max      2.143810e+05\n",
       "Name: Frequency, dtype: float64"
      ]
     },
     "execution_count": 13,
     "metadata": {},
     "output_type": "execute_result"
    }
   ],
   "source": [
    "# stats\n",
    "f_counts.Frequency.describe()"
   ]
  },
  {
   "cell_type": "markdown",
   "metadata": {
    "papermill": {
     "duration": 0.032071,
     "end_time": "2021-03-24T09:29:14.204896",
     "exception": false,
     "start_time": "2021-03-24T09:29:14.172825",
     "status": "completed"
    },
    "tags": []
   },
   "source": [
    "#### Interpretation: A follower has in average 9.73 targets."
   ]
  },
  {
   "cell_type": "code",
   "execution_count": 14,
   "metadata": {
    "execution": {
     "iopub.execute_input": "2021-03-24T09:29:14.277928Z",
     "iopub.status.busy": "2021-03-24T09:29:14.277004Z",
     "iopub.status.idle": "2021-03-24T09:29:15.637109Z",
     "shell.execute_reply": "2021-03-24T09:29:15.636262Z"
    },
    "papermill": {
     "duration": 1.400509,
     "end_time": "2021-03-24T09:29:15.637338",
     "exception": false,
     "start_time": "2021-03-24T09:29:14.236829",
     "status": "completed"
    },
    "tags": []
   },
   "outputs": [
    {
     "data": {
      "image/png": "[encoded data removed]",
      "text/plain": [
       "<Figure size 432x288 with 1 Axes>"
      ]
     },
     "metadata": {
      "needs_background": "light"
     },
     "output_type": "display_data"
    }
   ],
   "source": [
    "# plot in log scale\n",
    "plt.hist(np.log10(1+f_counts.Frequency),100)\n",
    "plt.yscale('log')\n",
    "plt.grid()\n",
    "plt.title('Distribution of following count')\n",
    "plt.xlabel('log10(1+counts)')\n",
    "plt.show()"
   ]
  },
  {
   "cell_type": "markdown",
   "metadata": {
    "papermill": {
     "duration": 0.03293,
     "end_time": "2021-03-24T09:29:15.709839",
     "exception": false,
     "start_time": "2021-03-24T09:29:15.676909",
     "status": "completed"
    },
    "tags": []
   },
   "source": [
    "### Most followed targets"
   ]
  },
  {
   "cell_type": "code",
   "execution_count": 15,
   "metadata": {
    "execution": {
     "iopub.execute_input": "2021-03-24T09:29:15.781971Z",
     "iopub.status.busy": "2021-03-24T09:29:15.781381Z",
     "iopub.status.idle": "2021-03-24T09:29:23.381260Z",
     "shell.execute_reply": "2021-03-24T09:29:23.381638Z"
    },
    "papermill": {
     "duration": 7.638762,
     "end_time": "2021-03-24T09:29:23.381780",
     "exception": false,
     "start_time": "2021-03-24T09:29:15.743018",
     "status": "completed"
    },
    "tags": []
   },
   "outputs": [
    {
     "data": {
      "text/html": [
       "<div>\n",
       "<style scoped>\n",
       "    .dataframe tbody tr th:only-of-type {\n",
       "        vertical-align: middle;\n",
       "    }\n",
       "\n",
       "    .dataframe tbody tr th {\n",
       "        vertical-align: top;\n",
       "    }\n",
       "\n",
       "    .dataframe thead th {\n",
       "        text-align: right;\n",
       "    }\n",
       "</style>\n",
       "<table border=\"1\" class=\"dataframe\">\n",
       "  <thead>\n",
       "    <tr style=\"text-align: right;\">\n",
       "      <th></th>\n",
       "      <th>Target</th>\n",
       "      <th>Frequency</th>\n",
       "    </tr>\n",
       "  </thead>\n",
       "  <tbody>\n",
       "    <tr>\n",
       "      <th>0</th>\n",
       "      <td>5994113</td>\n",
       "      <td>564512</td>\n",
       "    </tr>\n",
       "    <tr>\n",
       "      <th>1</th>\n",
       "      <td>7496</td>\n",
       "      <td>350885</td>\n",
       "    </tr>\n",
       "    <tr>\n",
       "      <th>2</th>\n",
       "      <td>1349110</td>\n",
       "      <td>341963</td>\n",
       "    </tr>\n",
       "    <tr>\n",
       "      <th>3</th>\n",
       "      <td>3493</td>\n",
       "      <td>212494</td>\n",
       "    </tr>\n",
       "    <tr>\n",
       "      <th>4</th>\n",
       "      <td>3402</td>\n",
       "      <td>196882</td>\n",
       "    </tr>\n",
       "    <tr>\n",
       "      <th>5</th>\n",
       "      <td>1629776</td>\n",
       "      <td>172231</td>\n",
       "    </tr>\n",
       "    <tr>\n",
       "      <th>6</th>\n",
       "      <td>4018</td>\n",
       "      <td>158041</td>\n",
       "    </tr>\n",
       "    <tr>\n",
       "      <th>7</th>\n",
       "      <td>8121005</td>\n",
       "      <td>155967</td>\n",
       "    </tr>\n",
       "    <tr>\n",
       "      <th>8</th>\n",
       "      <td>2041453</td>\n",
       "      <td>152689</td>\n",
       "    </tr>\n",
       "    <tr>\n",
       "      <th>9</th>\n",
       "      <td>16201</td>\n",
       "      <td>148619</td>\n",
       "    </tr>\n",
       "  </tbody>\n",
       "</table>\n",
       "</div>"
      ],
      "text/plain": [
       "    Target  Frequency\n",
       "0  5994113     564512\n",
       "1     7496     350885\n",
       "2  1349110     341963\n",
       "3     3493     212494\n",
       "4     3402     196882\n",
       "5  1629776     172231\n",
       "6     4018     158041\n",
       "7  8121005     155967\n",
       "8  2041453     152689\n",
       "9    16201     148619"
      ]
     },
     "execution_count": 15,
     "metadata": {},
     "output_type": "execute_result"
    }
   ],
   "source": [
    "# frequency table\n",
    "t_counts = df.Target.value_counts().rename_axis('Target').reset_index(name='Frequency')\n",
    "\n",
    "# top 10\n",
    "t_counts[0:10]"
   ]
  },
  {
   "cell_type": "code",
   "execution_count": 16,
   "metadata": {
    "execution": {
     "iopub.execute_input": "2021-03-24T09:29:23.434300Z",
     "iopub.status.busy": "2021-03-24T09:29:23.433716Z",
     "iopub.status.idle": "2021-03-24T09:29:23.660005Z",
     "shell.execute_reply": "2021-03-24T09:29:23.660514Z"
    },
    "papermill": {
     "duration": 0.255057,
     "end_time": "2021-03-24T09:29:23.660684",
     "exception": false,
     "start_time": "2021-03-24T09:29:23.405627",
     "status": "completed"
    },
    "tags": []
   },
   "outputs": [
    {
     "data": {
      "text/plain": [
       "count    6.626985e+06\n",
       "mean     1.287642e+01\n",
       "std      5.378080e+02\n",
       "min      1.000000e+00\n",
       "25%      1.000000e+00\n",
       "50%      1.000000e+00\n",
       "75%      3.000000e+00\n",
       "max      5.645120e+05\n",
       "Name: Frequency, dtype: float64"
      ]
     },
     "execution_count": 16,
     "metadata": {},
     "output_type": "execute_result"
    }
   ],
   "source": [
    "# stats\n",
    "t_counts.Frequency.describe()"
   ]
  },
  {
   "cell_type": "markdown",
   "metadata": {
    "papermill": {
     "duration": 0.034484,
     "end_time": "2021-03-24T09:29:23.728766",
     "exception": false,
     "start_time": "2021-03-24T09:29:23.694282",
     "status": "completed"
    },
    "tags": []
   },
   "source": [
    "#### Interpretation: A target has in average 12.88 followers."
   ]
  },
  {
   "cell_type": "code",
   "execution_count": 17,
   "metadata": {
    "execution": {
     "iopub.execute_input": "2021-03-24T09:29:23.809953Z",
     "iopub.status.busy": "2021-03-24T09:29:23.809336Z",
     "iopub.status.idle": "2021-03-24T09:29:24.964167Z",
     "shell.execute_reply": "2021-03-24T09:29:24.962513Z"
    },
    "papermill": {
     "duration": 1.201566,
     "end_time": "2021-03-24T09:29:24.964363",
     "exception": false,
     "start_time": "2021-03-24T09:29:23.762797",
     "status": "completed"
    },
    "tags": []
   },
   "outputs": [
    {
     "data": {
      "image/png": "[encoded data removed]",
      "text/plain": [
       "<Figure size 432x288 with 1 Axes>"
      ]
     },
     "metadata": {
      "needs_background": "light"
     },
     "output_type": "display_data"
    }
   ],
   "source": [
    "# plot in log scale\n",
    "plt.hist(np.log10(1+t_counts.Frequency),100)\n",
    "plt.yscale('log')\n",
    "plt.grid()\n",
    "plt.title('Distribution of target count')\n",
    "plt.xlabel('log10(1+counts)')\n",
    "plt.show()"
   ]
  },
  {
   "cell_type": "markdown",
   "metadata": {
    "papermill": {
     "duration": 0.034853,
     "end_time": "2021-03-24T09:29:25.034480",
     "exception": false,
     "start_time": "2021-03-24T09:29:24.999627",
     "status": "completed"
    },
    "tags": []
   },
   "source": [
    "<a id='3'></a>\n",
    "# Pagerank - Demo on subset"
   ]
  },
  {
   "cell_type": "markdown",
   "metadata": {
    "papermill": {
     "duration": 0.034691,
     "end_time": "2021-03-24T09:29:25.104096",
     "exception": false,
     "start_time": "2021-03-24T09:29:25.069405",
     "status": "completed"
    },
    "tags": []
   },
   "source": [
    "### The full graph would be too big for the 16GB memory environment, so we are just making a demo on a small subset."
   ]
  },
  {
   "cell_type": "code",
   "execution_count": 18,
   "metadata": {
    "execution": {
     "iopub.execute_input": "2021-03-24T09:29:25.181842Z",
     "iopub.status.busy": "2021-03-24T09:29:25.181094Z",
     "iopub.status.idle": "2021-03-24T09:29:31.010646Z",
     "shell.execute_reply": "2021-03-24T09:29:31.009971Z"
    },
    "papermill": {
     "duration": 5.87143,
     "end_time": "2021-03-24T09:29:31.010788",
     "exception": false,
     "start_time": "2021-03-24T09:29:25.139358",
     "status": "completed"
    },
    "tags": []
   },
   "outputs": [],
   "source": [
    "# select subset\n",
    "df_sub = df.sample(100000, random_state=987)"
   ]
  },
  {
   "cell_type": "code",
   "execution_count": 19,
   "metadata": {
    "execution": {
     "iopub.execute_input": "2021-03-24T09:29:31.086254Z",
     "iopub.status.busy": "2021-03-24T09:29:31.085588Z",
     "iopub.status.idle": "2021-03-24T09:29:31.999208Z",
     "shell.execute_reply": "2021-03-24T09:29:31.998672Z"
    },
    "papermill": {
     "duration": 0.953531,
     "end_time": "2021-03-24T09:29:31.999380",
     "exception": false,
     "start_time": "2021-03-24T09:29:31.045849",
     "status": "completed"
    },
    "tags": []
   },
   "outputs": [],
   "source": [
    "# build graph from data frame\n",
    "G = nx.from_pandas_edgelist(df_sub, 'Follower', 'Target', create_using=nx.DiGraph())"
   ]
  },
  {
   "cell_type": "code",
   "execution_count": 20,
   "metadata": {
    "execution": {
     "iopub.execute_input": "2021-03-24T09:29:32.090340Z",
     "iopub.status.busy": "2021-03-24T09:29:32.084493Z",
     "iopub.status.idle": "2021-03-24T09:29:37.916048Z",
     "shell.execute_reply": "2021-03-24T09:29:37.915482Z"
    },
    "papermill": {
     "duration": 5.881539,
     "end_time": "2021-03-24T09:29:37.916199",
     "exception": false,
     "start_time": "2021-03-24T09:29:32.034660",
     "status": "completed"
    },
    "tags": []
   },
   "outputs": [],
   "source": [
    "# calc pagerank for each node\n",
    "pageranks = nx.pagerank(G)\n",
    "\n",
    "# convert to data frame\n",
    "pageranks = pd.DataFrame.from_dict(pageranks, orient='index',\n",
    "                                  columns=['Pagerank'])\n",
    "# and sort by pagerank\n",
    "pageranks = pageranks.sort_values(by=['Pagerank'], ascending=False)"
   ]
  },
  {
   "cell_type": "code",
   "execution_count": 21,
   "metadata": {
    "execution": {
     "iopub.execute_input": "2021-03-24T09:29:37.996502Z",
     "iopub.status.busy": "2021-03-24T09:29:37.992980Z",
     "iopub.status.idle": "2021-03-24T09:29:38.002375Z",
     "shell.execute_reply": "2021-03-24T09:29:38.002891Z"
    },
    "papermill": {
     "duration": 0.051701,
     "end_time": "2021-03-24T09:29:38.003068",
     "exception": false,
     "start_time": "2021-03-24T09:29:37.951367",
     "status": "completed"
    },
    "tags": []
   },
   "outputs": [
    {
     "data": {
      "text/html": [
       "<div>\n",
       "<style scoped>\n",
       "    .dataframe tbody tr th:only-of-type {\n",
       "        vertical-align: middle;\n",
       "    }\n",
       "\n",
       "    .dataframe tbody tr th {\n",
       "        vertical-align: top;\n",
       "    }\n",
       "\n",
       "    .dataframe thead th {\n",
       "        text-align: right;\n",
       "    }\n",
       "</style>\n",
       "<table border=\"1\" class=\"dataframe\">\n",
       "  <thead>\n",
       "    <tr style=\"text-align: right;\">\n",
       "      <th></th>\n",
       "      <th>Pagerank</th>\n",
       "    </tr>\n",
       "  </thead>\n",
       "  <tbody>\n",
       "    <tr>\n",
       "      <th>5994113</th>\n",
       "      <td>0.003268</td>\n",
       "    </tr>\n",
       "    <tr>\n",
       "      <th>1928416</th>\n",
       "      <td>0.002417</td>\n",
       "    </tr>\n",
       "    <tr>\n",
       "      <th>7496</th>\n",
       "      <td>0.002098</td>\n",
       "    </tr>\n",
       "    <tr>\n",
       "      <th>1349110</th>\n",
       "      <td>0.001749</td>\n",
       "    </tr>\n",
       "    <tr>\n",
       "      <th>3493</th>\n",
       "      <td>0.001104</td>\n",
       "    </tr>\n",
       "    <tr>\n",
       "      <th>3402</th>\n",
       "      <td>0.001036</td>\n",
       "    </tr>\n",
       "    <tr>\n",
       "      <th>1629776</th>\n",
       "      <td>0.000979</td>\n",
       "    </tr>\n",
       "    <tr>\n",
       "      <th>2041453</th>\n",
       "      <td>0.000869</td>\n",
       "    </tr>\n",
       "    <tr>\n",
       "      <th>4018</th>\n",
       "      <td>0.000866</td>\n",
       "    </tr>\n",
       "    <tr>\n",
       "      <th>8121005</th>\n",
       "      <td>0.000847</td>\n",
       "    </tr>\n",
       "  </tbody>\n",
       "</table>\n",
       "</div>"
      ],
      "text/plain": [
       "         Pagerank\n",
       "5994113  0.003268\n",
       "1928416  0.002417\n",
       "7496     0.002098\n",
       "1349110  0.001749\n",
       "3493     0.001104\n",
       "3402     0.001036\n",
       "1629776  0.000979\n",
       "2041453  0.000869\n",
       "4018     0.000866\n",
       "8121005  0.000847"
      ]
     },
     "execution_count": 21,
     "metadata": {},
     "output_type": "execute_result"
    }
   ],
   "source": [
    "# show top 10\n",
    "pageranks[0:10]"
   ]
  },
  {
   "cell_type": "markdown",
   "metadata": {
    "papermill": {
     "duration": 0.035219,
     "end_time": "2021-03-24T09:29:38.073949",
     "exception": false,
     "start_time": "2021-03-24T09:29:38.038730",
     "status": "completed"
    },
    "tags": []
   },
   "source": [
    "### Compare with simple frequency count:"
   ]
  },
  {
   "cell_type": "code",
   "execution_count": 22,
   "metadata": {
    "execution": {
     "iopub.execute_input": "2021-03-24T09:29:38.150717Z",
     "iopub.status.busy": "2021-03-24T09:29:38.149612Z",
     "iopub.status.idle": "2021-03-24T09:29:38.166674Z",
     "shell.execute_reply": "2021-03-24T09:29:38.167497Z"
    },
    "papermill": {
     "duration": 0.058427,
     "end_time": "2021-03-24T09:29:38.167718",
     "exception": false,
     "start_time": "2021-03-24T09:29:38.109291",
     "status": "completed"
    },
    "tags": []
   },
   "outputs": [
    {
     "data": {
      "text/html": [
       "<div>\n",
       "<style scoped>\n",
       "    .dataframe tbody tr th:only-of-type {\n",
       "        vertical-align: middle;\n",
       "    }\n",
       "\n",
       "    .dataframe tbody tr th {\n",
       "        vertical-align: top;\n",
       "    }\n",
       "\n",
       "    .dataframe thead th {\n",
       "        text-align: right;\n",
       "    }\n",
       "</style>\n",
       "<table border=\"1\" class=\"dataframe\">\n",
       "  <thead>\n",
       "    <tr style=\"text-align: right;\">\n",
       "      <th></th>\n",
       "      <th>Target</th>\n",
       "      <th>Frequency</th>\n",
       "    </tr>\n",
       "  </thead>\n",
       "  <tbody>\n",
       "    <tr>\n",
       "      <th>0</th>\n",
       "      <td>5994113</td>\n",
       "      <td>695</td>\n",
       "    </tr>\n",
       "    <tr>\n",
       "      <th>1</th>\n",
       "      <td>7496</td>\n",
       "      <td>448</td>\n",
       "    </tr>\n",
       "    <tr>\n",
       "      <th>2</th>\n",
       "      <td>1349110</td>\n",
       "      <td>372</td>\n",
       "    </tr>\n",
       "    <tr>\n",
       "      <th>3</th>\n",
       "      <td>3493</td>\n",
       "      <td>236</td>\n",
       "    </tr>\n",
       "    <tr>\n",
       "      <th>4</th>\n",
       "      <td>3402</td>\n",
       "      <td>216</td>\n",
       "    </tr>\n",
       "    <tr>\n",
       "      <th>5</th>\n",
       "      <td>1629776</td>\n",
       "      <td>200</td>\n",
       "    </tr>\n",
       "    <tr>\n",
       "      <th>6</th>\n",
       "      <td>2041453</td>\n",
       "      <td>187</td>\n",
       "    </tr>\n",
       "    <tr>\n",
       "      <th>7</th>\n",
       "      <td>4018</td>\n",
       "      <td>185</td>\n",
       "    </tr>\n",
       "    <tr>\n",
       "      <th>8</th>\n",
       "      <td>8121005</td>\n",
       "      <td>179</td>\n",
       "    </tr>\n",
       "    <tr>\n",
       "      <th>9</th>\n",
       "      <td>216481</td>\n",
       "      <td>164</td>\n",
       "    </tr>\n",
       "  </tbody>\n",
       "</table>\n",
       "</div>"
      ],
      "text/plain": [
       "    Target  Frequency\n",
       "0  5994113        695\n",
       "1     7496        448\n",
       "2  1349110        372\n",
       "3     3493        236\n",
       "4     3402        216\n",
       "5  1629776        200\n",
       "6  2041453        187\n",
       "7     4018        185\n",
       "8  8121005        179\n",
       "9   216481        164"
      ]
     },
     "execution_count": 22,
     "metadata": {},
     "output_type": "execute_result"
    }
   ],
   "source": [
    "# frequency table / top 10\n",
    "t_counts_sub = df_sub.Target.value_counts().rename_axis('Target').reset_index(name='Frequency')\n",
    "t_counts_sub[0:10]"
   ]
  }
 ],
 "metadata": {
  "kernelspec": {
   "display_name": "Python 3",
   "language": "python",
   "name": "python3"
  },
  "language_info": {
   "codemirror_mode": {
    "name": "ipython",
    "version": 3
   },
   "file_extension": ".py",
   "mimetype": "text/x-python",
   "name": "python",
   "nbconvert_exporter": "python",
   "pygments_lexer": "ipython3",
   "version": "3.7.9"
  },
  "papermill": {
   "default_parameters": {},
   "duration": 87.403539,
   "end_time": "2021-03-24T09:29:39.034046",
   "environment_variables": {},
   "exception": null,
   "input_path": "__notebook__.ipynb",
   "output_path": "__notebook__.ipynb",
   "parameters": {},
   "start_time": "2021-03-24T09:28:11.630507",
   "version": "2.2.2"
  }
 },
 "nbformat": 4,
 "nbformat_minor": 4
}
